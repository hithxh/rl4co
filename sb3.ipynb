{
 "cells": [
  {
   "cell_type": "code",
   "execution_count": null,
   "metadata": {},
   "outputs": [],
   "source": [
    "from stable_baselines3 import PPO\n",
    "from stable_baselines3.common.vec_env import DummyVecEnv\n",
    "from stable_baselines3.common.evaluation import evaluate_policy\n",
    "import gymnasium as gym\n",
    "import os \n",
    "\n",
    "# env = gym.make('CartPole-v1',render_mode=\"rgb_array\")\n",
    "\n",
    "# episodes = 1000\n",
    "# best = 0 \n",
    "# for episode in range(1, episodes+1):\n",
    "#     state = env.reset() \n",
    "#     done = False\t\n",
    "#     score = 0 \n",
    "\n",
    "#     while not done:\n",
    "#         # env.render()\n",
    "#         action = env.action_space.sample()\n",
    "#         n_state, reward, done,_, info = env.step(action) \n",
    "#         score += reward\n",
    "    \n",
    "#     if best <= score:\n",
    "#         best = score\n",
    "#     print('Episode:{}Score:{}'.format(episode, score))\n",
    "# print(best)\n",
    "# env.close() \n"
   ]
  },
  {
   "cell_type": "code",
   "execution_count": 19,
   "metadata": {},
   "outputs": [],
   "source": [
    "from stable_baselines3 import PPO\n",
    "from stable_baselines3.common.vec_env import DummyVecEnv\n",
    "from stable_baselines3.common.evaluation import evaluate_policy\n",
    "# import gymnasium as gym\n",
    "import os, gym \n",
    "import random\n",
    "\n",
    "from gym.spaces import Box, Dict, Discrete, MultiBinary, MultiDiscrete\n",
    "\n",
    "class AEOSEnv(gym.Env):\n",
    "    def __init__(self) -> None:\n",
    "        self.action_space = Discrete(3)\n",
    "        self.observation_space = Box(low=0, high=100,shape=(1,))\n",
    "        self.state = 38+random.randint(-3,3)\n",
    "        self.length = 60\n",
    "\n",
    "    def step(self,action):\n",
    "        self.state += action-1\n",
    "        self.length -=1\n",
    "        if self.state>=37 and self.state <=39:\n",
    "            reward = 1\n",
    "        else:\n",
    "            reward = -1\n",
    "\n",
    "        if self.length <=0:\n",
    "            done = True\n",
    "        else:\n",
    "            done = False\n",
    "\n",
    "\n",
    "        info ={}\n",
    "        return self.state, reward, done, info\n",
    "    def reset(self):\n",
    "        self.length = 60\n",
    "        self.state = 38+random.randint(-3,3)\n",
    "        return self.state\n",
    "    def render(self):\n",
    "        pass\n",
    "\n"
   ]
  },
  {
   "cell_type": "code",
   "execution_count": 20,
   "metadata": {},
   "outputs": [
    {
     "name": "stdout",
     "output_type": "stream",
     "text": [
      "Episode:1 Score:-22\n",
      "Episode:2 Score:-16\n",
      "Episode:3 Score:-30\n",
      "Episode:4 Score:-8\n",
      "Episode:5 Score:-60\n",
      "0\n"
     ]
    }
   ],
   "source": [
    "env = AEOSEnv()\n",
    "episodes = 5\n",
    "best = 0 \n",
    "for episode in range(1, episodes+1):\n",
    "    state = env.reset() \n",
    "    done = False\t\n",
    "    score = 0 \n",
    "\n",
    "    while not done:\n",
    "        env.render()\n",
    "        action = env.action_space.sample()\n",
    "        n_state, reward, done ,info = env.step(action) \n",
    "        score += reward\n",
    "    \n",
    "    if best <= score:\n",
    "        best = score\n",
    "    print('Episode:{} Score:{}'.format(episode, score))\n",
    "print(best)\n",
    "env.close() "
   ]
  },
  {
   "cell_type": "code",
   "execution_count": 21,
   "metadata": {},
   "outputs": [
    {
     "name": "stdout",
     "output_type": "stream",
     "text": [
      "Using cpu device\n",
      "Logging to Training\\Logs\\PPO_4\n"
     ]
    },
    {
     "name": "stderr",
     "output_type": "stream",
     "text": [
      "c:\\Users\\hithx\\miniconda3\\envs\\drl\\Lib\\site-packages\\stable_baselines3\\common\\vec_env\\patch_gym.py:49: UserWarning: You provided an OpenAI Gym environment. We strongly recommend transitioning to Gymnasium environments. Stable-Baselines3 is automatically wrapping your environments in a compatibility layer, which could potentially cause issues.\n",
      "  warnings.warn(\n"
     ]
    },
    {
     "name": "stdout",
     "output_type": "stream",
     "text": [
      "-----------------------------\n",
      "| time/              |      |\n",
      "|    fps             | 2424 |\n",
      "|    iterations      | 1    |\n",
      "|    time_elapsed    | 0    |\n",
      "|    total_timesteps | 2048 |\n",
      "-----------------------------\n",
      "-----------------------------------------\n",
      "| time/                   |             |\n",
      "|    fps                  | 1648        |\n",
      "|    iterations           | 2           |\n",
      "|    time_elapsed         | 2           |\n",
      "|    total_timesteps      | 4096        |\n",
      "| train/                  |             |\n",
      "|    approx_kl            | 0.011001111 |\n",
      "|    clip_fraction        | 0.0555      |\n",
      "|    clip_range           | 0.2         |\n",
      "|    entropy_loss         | -1.09       |\n",
      "|    explained_variance   | -0.000299   |\n",
      "|    learning_rate        | 0.0003      |\n",
      "|    loss                 | 28.1        |\n",
      "|    n_updates            | 10          |\n",
      "|    policy_gradient_loss | -0.00374    |\n",
      "|    value_loss           | 59.3        |\n",
      "-----------------------------------------\n",
      "----------------------------------------\n",
      "| time/                   |            |\n",
      "|    fps                  | 1474       |\n",
      "|    iterations           | 3          |\n",
      "|    time_elapsed         | 4          |\n",
      "|    total_timesteps      | 6144       |\n",
      "| train/                  |            |\n",
      "|    approx_kl            | 0.01287722 |\n",
      "|    clip_fraction        | 0.0739     |\n",
      "|    clip_range           | 0.2        |\n",
      "|    entropy_loss         | -1.07      |\n",
      "|    explained_variance   | 0.00155    |\n",
      "|    learning_rate        | 0.0003     |\n",
      "|    loss                 | 26.6       |\n",
      "|    n_updates            | 20         |\n",
      "|    policy_gradient_loss | -0.00548   |\n",
      "|    value_loss           | 48.1       |\n",
      "----------------------------------------\n",
      "------------------------------------------\n",
      "| time/                   |              |\n",
      "|    fps                  | 1393         |\n",
      "|    iterations           | 4            |\n",
      "|    time_elapsed         | 5            |\n",
      "|    total_timesteps      | 8192         |\n",
      "| train/                  |              |\n",
      "|    approx_kl            | 0.0071811527 |\n",
      "|    clip_fraction        | 0.0418       |\n",
      "|    clip_range           | 0.2          |\n",
      "|    entropy_loss         | -1.04        |\n",
      "|    explained_variance   | -0.000146    |\n",
      "|    learning_rate        | 0.0003       |\n",
      "|    loss                 | 27.4         |\n",
      "|    n_updates            | 30           |\n",
      "|    policy_gradient_loss | -0.00144     |\n",
      "|    value_loss           | 55.1         |\n",
      "------------------------------------------\n",
      "-----------------------------------------\n",
      "| time/                   |             |\n",
      "|    fps                  | 1352        |\n",
      "|    iterations           | 5           |\n",
      "|    time_elapsed         | 7           |\n",
      "|    total_timesteps      | 10240       |\n",
      "| train/                  |             |\n",
      "|    approx_kl            | 0.005460462 |\n",
      "|    clip_fraction        | 0.0717      |\n",
      "|    clip_range           | 0.2         |\n",
      "|    entropy_loss         | -1.04       |\n",
      "|    explained_variance   | -0.000128   |\n",
      "|    learning_rate        | 0.0003      |\n",
      "|    loss                 | 39.4        |\n",
      "|    n_updates            | 40          |\n",
      "|    policy_gradient_loss | -0.0048     |\n",
      "|    value_loss           | 69.3        |\n",
      "-----------------------------------------\n",
      "------------------------------------------\n",
      "| time/                   |              |\n",
      "|    fps                  | 1333         |\n",
      "|    iterations           | 6            |\n",
      "|    time_elapsed         | 9            |\n",
      "|    total_timesteps      | 12288        |\n",
      "| train/                  |              |\n",
      "|    approx_kl            | 0.0077493424 |\n",
      "|    clip_fraction        | 0.0265       |\n",
      "|    clip_range           | 0.2          |\n",
      "|    entropy_loss         | -1.04        |\n",
      "|    explained_variance   | 0.000376     |\n",
      "|    learning_rate        | 0.0003       |\n",
      "|    loss                 | 43.7         |\n",
      "|    n_updates            | 50           |\n",
      "|    policy_gradient_loss | -0.00103     |\n",
      "|    value_loss           | 82.8         |\n",
      "------------------------------------------\n",
      "-----------------------------------------\n",
      "| time/                   |             |\n",
      "|    fps                  | 1321        |\n",
      "|    iterations           | 7           |\n",
      "|    time_elapsed         | 10          |\n",
      "|    total_timesteps      | 14336       |\n",
      "| train/                  |             |\n",
      "|    approx_kl            | 0.010067389 |\n",
      "|    clip_fraction        | 0.106       |\n",
      "|    clip_range           | 0.2         |\n",
      "|    entropy_loss         | -1.04       |\n",
      "|    explained_variance   | -0.00272    |\n",
      "|    learning_rate        | 0.0003      |\n",
      "|    loss                 | 27.7        |\n",
      "|    n_updates            | 60          |\n",
      "|    policy_gradient_loss | -0.00616    |\n",
      "|    value_loss           | 72.5        |\n",
      "-----------------------------------------\n",
      "-----------------------------------------\n",
      "| time/                   |             |\n",
      "|    fps                  | 1314        |\n",
      "|    iterations           | 8           |\n",
      "|    time_elapsed         | 12          |\n",
      "|    total_timesteps      | 16384       |\n",
      "| train/                  |             |\n",
      "|    approx_kl            | 0.005305959 |\n",
      "|    clip_fraction        | 0.00288     |\n",
      "|    clip_range           | 0.2         |\n",
      "|    entropy_loss         | -1.05       |\n",
      "|    explained_variance   | 2.59e-05    |\n",
      "|    learning_rate        | 0.0003      |\n",
      "|    loss                 | 35.6        |\n",
      "|    n_updates            | 70          |\n",
      "|    policy_gradient_loss | 0.000446    |\n",
      "|    value_loss           | 87.5        |\n",
      "-----------------------------------------\n",
      "-----------------------------------------\n",
      "| time/                   |             |\n",
      "|    fps                  | 1310        |\n",
      "|    iterations           | 9           |\n",
      "|    time_elapsed         | 14          |\n",
      "|    total_timesteps      | 18432       |\n",
      "| train/                  |             |\n",
      "|    approx_kl            | 0.007600474 |\n",
      "|    clip_fraction        | 0.0556      |\n",
      "|    clip_range           | 0.2         |\n",
      "|    entropy_loss         | -1.04       |\n",
      "|    explained_variance   | -4.77e-07   |\n",
      "|    learning_rate        | 0.0003      |\n",
      "|    loss                 | 32.1        |\n",
      "|    n_updates            | 80          |\n",
      "|    policy_gradient_loss | -0.00322    |\n",
      "|    value_loss           | 76.6        |\n",
      "-----------------------------------------\n",
      "------------------------------------------\n",
      "| time/                   |              |\n",
      "|    fps                  | 1307         |\n",
      "|    iterations           | 10           |\n",
      "|    time_elapsed         | 15           |\n",
      "|    total_timesteps      | 20480        |\n",
      "| train/                  |              |\n",
      "|    approx_kl            | 0.0022356887 |\n",
      "|    clip_fraction        | 0.00249      |\n",
      "|    clip_range           | 0.2          |\n",
      "|    entropy_loss         | -1.03        |\n",
      "|    explained_variance   | -5.05e-05    |\n",
      "|    learning_rate        | 0.0003       |\n",
      "|    loss                 | 35.3         |\n",
      "|    n_updates            | 90           |\n",
      "|    policy_gradient_loss | 0.000669     |\n",
      "|    value_loss           | 75.3         |\n",
      "------------------------------------------\n"
     ]
    },
    {
     "data": {
      "text/plain": [
       "<stable_baselines3.ppo.ppo.PPO at 0x2dad26a0e10>"
      ]
     },
     "execution_count": 21,
     "metadata": {},
     "output_type": "execute_result"
    }
   ],
   "source": [
    "log_path = os.path.join(\"Training\",'Logs')\n",
    "env = DummyVecEnv([lambda:env])\n",
    "model = PPO(\"MlpPolicy\",env, verbose=1,tensorboard_log=log_path)\n",
    "model.learn(total_timesteps=20000) # 模型训练20000次"
   ]
  },
  {
   "cell_type": "code",
   "execution_count": null,
   "metadata": {},
   "outputs": [],
   "source": [
    "\n",
    "\n",
    "\n",
    "\n",
    "\n",
    "\n",
    "\n",
    "\n",
    "\n",
    "\n",
    "\n",
    "\n",
    "\n",
    "\n",
    "\n",
    "\n",
    "\n",
    "\n",
    "\n",
    "\n",
    "\n",
    "\n",
    "\n",
    "\n",
    "\n",
    "\n"
   ]
  },
  {
   "cell_type": "code",
   "execution_count": null,
   "metadata": {},
   "outputs": [],
   "source": [
    "log_path = os.path.join(\"Training\",'Logs')\n",
    "env = gym.make('CartPole-v1',render_mode=\"human\")\n",
    "env = DummyVecEnv([lambda:env])\n",
    "model = PPO(\"MlpPolicy\",env, verbose=1,tensorboard_log=log_path)\n",
    "model.learn(total_timesteps=20000) # 模型训练20000次\n"
   ]
  },
  {
   "cell_type": "code",
   "execution_count": null,
   "metadata": {},
   "outputs": [],
   "source": [
    "ppo_path = os.path.join('Training','Saved','ppo_cart')\n",
    "model.save(ppo_path)"
   ]
  },
  {
   "cell_type": "code",
   "execution_count": null,
   "metadata": {},
   "outputs": [],
   "source": [
    "del model"
   ]
  },
  {
   "cell_type": "code",
   "execution_count": null,
   "metadata": {},
   "outputs": [],
   "source": [
    "model = PPO.load(ppo_path, env=env)"
   ]
  },
  {
   "cell_type": "code",
   "execution_count": null,
   "metadata": {},
   "outputs": [],
   "source": [
    "evaluate_policy(model,env, n_eval_episodes=10,render=True)"
   ]
  },
  {
   "cell_type": "code",
   "execution_count": 22,
   "metadata": {},
   "outputs": [
    {
     "name": "stdout",
     "output_type": "stream",
     "text": [
      "The tensorboard extension is already loaded. To reload it, use:\n",
      "  %reload_ext tensorboard\n"
     ]
    },
    {
     "data": {
      "text/plain": [
       "Reusing TensorBoard on port 6006 (pid 21172), started 20:50:47 ago. (Use '!kill 21172' to kill it.)"
      ]
     },
     "metadata": {},
     "output_type": "display_data"
    },
    {
     "data": {
      "text/html": [
       "\n",
       "      <iframe id=\"tensorboard-frame-d0462117c48672f8\" width=\"100%\" height=\"800\" frameborder=\"0\">\n",
       "      </iframe>\n",
       "      <script>\n",
       "        (function() {\n",
       "          const frame = document.getElementById(\"tensorboard-frame-d0462117c48672f8\");\n",
       "          const url = new URL(\"http://localhost\");\n",
       "          const port = 6006;\n",
       "          if (port) {\n",
       "            url.port = port;\n",
       "          }\n",
       "          frame.src = url;\n",
       "        })();\n",
       "      </script>\n",
       "    "
      ],
      "text/plain": [
       "<IPython.core.display.HTML object>"
      ]
     },
     "metadata": {},
     "output_type": "display_data"
    }
   ],
   "source": [
    "import os \n",
    "\n",
    "log_path = os.path.join(\"Training\",'Logs')\n",
    "\n",
    "%load_ext tensorboard\n",
    "%tensorboard --logdir=log_path"
   ]
  },
  {
   "cell_type": "code",
   "execution_count": 4,
   "metadata": {},
   "outputs": [
    {
     "ename": "IndexError",
     "evalue": "tuple index out of range",
     "output_type": "error",
     "traceback": [
      "\u001b[1;31m---------------------------------------------------------------------------\u001b[0m",
      "\u001b[1;31mIndexError\u001b[0m                                Traceback (most recent call last)",
      "\u001b[1;32md:\\OneDrive - alu.hit.edu.cn\\MissionPlanning\\MPS\\sb3.ipynb 单元格 12\u001b[0m line \u001b[0;36m1\n\u001b[0;32m     <a href='vscode-notebook-cell:/d%3A/OneDrive%20-%20alu.hit.edu.cn/MissionPlanning/MPS/sb3.ipynb#X14sZmlsZQ%3D%3D?line=9'>10</a>\u001b[0m env \u001b[39m=\u001b[39m make_atari_env(\u001b[39m\"\u001b[39m\u001b[39mSkiing-v4\u001b[39m\u001b[39m\"\u001b[39m, n_envs\u001b[39m=\u001b[39m\u001b[39m4\u001b[39m, seed\u001b[39m=\u001b[39m\u001b[39m0\u001b[39m)\n\u001b[0;32m     <a href='vscode-notebook-cell:/d%3A/OneDrive%20-%20alu.hit.edu.cn/MissionPlanning/MPS/sb3.ipynb#X14sZmlsZQ%3D%3D?line=10'>11</a>\u001b[0m \u001b[39m# The noise objects for DDPG\u001b[39;00m\n\u001b[1;32m---> <a href='vscode-notebook-cell:/d%3A/OneDrive%20-%20alu.hit.edu.cn/MissionPlanning/MPS/sb3.ipynb#X14sZmlsZQ%3D%3D?line=11'>12</a>\u001b[0m n_actions \u001b[39m=\u001b[39m env\u001b[39m.\u001b[39;49maction_space\u001b[39m.\u001b[39;49mshape[\u001b[39m-\u001b[39;49m\u001b[39m1\u001b[39;49m]\n\u001b[0;32m     <a href='vscode-notebook-cell:/d%3A/OneDrive%20-%20alu.hit.edu.cn/MissionPlanning/MPS/sb3.ipynb#X14sZmlsZQ%3D%3D?line=12'>13</a>\u001b[0m action_noise \u001b[39m=\u001b[39m NormalActionNoise(mean\u001b[39m=\u001b[39mnp\u001b[39m.\u001b[39mzeros(n_actions), sigma\u001b[39m=\u001b[39m\u001b[39m0.1\u001b[39m \u001b[39m*\u001b[39m np\u001b[39m.\u001b[39mones(n_actions))\n\u001b[0;32m     <a href='vscode-notebook-cell:/d%3A/OneDrive%20-%20alu.hit.edu.cn/MissionPlanning/MPS/sb3.ipynb#X14sZmlsZQ%3D%3D?line=14'>15</a>\u001b[0m model \u001b[39m=\u001b[39m DDPG(\u001b[39m\"\u001b[39m\u001b[39mMlpPolicy\u001b[39m\u001b[39m\"\u001b[39m, env, action_noise\u001b[39m=\u001b[39maction_noise, verbose\u001b[39m=\u001b[39m\u001b[39m1\u001b[39m)\n",
      "\u001b[1;31mIndexError\u001b[0m: tuple index out of range"
     ]
    }
   ],
   "source": [
    "import gymnasium as gym\n",
    "import numpy as np\n",
    "\n",
    "from stable_baselines3 import DDPG\n",
    "from stable_baselines3.common.noise import NormalActionNoise, OrnsteinUhlenbeckActionNoise\n",
    "from stable_baselines3.common.env_util import make_atari_env\n",
    "# env = gym.make(\"Pendulum-v1\", render_mode=\"rgb_array\")\n",
    "\n",
    "\n",
    "env = make_atari_env(\"Skiing-v4\", n_envs=4, seed=0)\n",
    "# The noise objects for DDPG\n",
    "n_actions = env.action_space.shape[-1]\n",
    "action_noise = NormalActionNoise(mean=np.zeros(n_actions), sigma=0.1 * np.ones(n_actions))\n",
    "\n",
    "model = DDPG(\"MlpPolicy\", env, action_noise=action_noise, verbose=1)\n",
    "model.learn(total_timesteps=10000, log_interval=10)\n",
    "model.save(\"ddpg_pendulum\")\n",
    "vec_env = model.get_env()\n",
    "\n",
    "del model # remove to demonstrate saving and loading\n",
    "\n",
    "model = DDPG.load(\"ddpg_pendulum\")\n",
    "\n",
    "obs = vec_env.reset()\n",
    "while True:\n",
    "    action, _states = model.predict(obs)\n",
    "    obs, rewards, dones, info = vec_env.step(action)\n",
    "    env.render(\"human\")"
   ]
  }
 ],
 "metadata": {
  "kernelspec": {
   "display_name": "drl",
   "language": "python",
   "name": "python3"
  },
  "language_info": {
   "codemirror_mode": {
    "name": "ipython",
    "version": 3
   },
   "file_extension": ".py",
   "mimetype": "text/x-python",
   "name": "python",
   "nbconvert_exporter": "python",
   "pygments_lexer": "ipython3",
   "version": "3.11.5"
  },
  "orig_nbformat": 4
 },
 "nbformat": 4,
 "nbformat_minor": 2
}
