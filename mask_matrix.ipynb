{
 "cells": [
  {
   "cell_type": "code",
   "execution_count": 29,
   "metadata": {},
   "outputs": [
    {
     "data": {
      "text/plain": [
       "(2, 100, 10, 20, 2)"
      ]
     },
     "execution_count": 29,
     "metadata": {},
     "output_type": "execute_result"
    }
   ],
   "source": [
    "import numpy as np\n",
    "import time\n",
    "\n",
    "\n",
    "np.random.seed(3)\n",
    "batch_size = 10\n",
    "n_node = 20\n",
    "n_epoch=2 \n",
    "n_batch_per_epoch = 100\n",
    "tasks = np.random.uniform(size=(n_epoch, n_batch_per_epoch,batch_size, n_node, 2)).astype(np.float32)\n",
    "\n",
    "tasks.shape"
   ]
  },
  {
   "cell_type": "code",
   "execution_count": 30,
   "metadata": {},
   "outputs": [],
   "source": [
    "import math\n",
    "def calculate_angle(point1, point2):\n",
    "    # 计算两点之间的角度\n",
    "    delta_x = point2[0] - point1[0]\n",
    "    delta_y = point2[1] - point1[1]\n",
    "    angle = math.atan2(delta_y, delta_x) * 180 / math.pi\n",
    "    return angle\n",
    "\n",
    "def cal_angle_and_mask_matrix(tasks):\n",
    "    '''Calculate angle between tasks and mask matrix.\n",
    "    Args:\n",
    "        tasks (np.array): (batch_size, n_node, 2)\n",
    "    Returns:\n",
    "        angle (np.array): (batch_size, n_node, n_node)\n",
    "        '''\n",
    "    n_epoch, n_batch_per_epoch,batch_size, n_node, _ = tasks.shape\n",
    "    angle = np.zeros((n_epoch, n_batch_per_epoch,batch_size, n_node, n_node))\n",
    "    mask_matrix = np.zeros((n_epoch, n_batch_per_epoch,batch_size, n_node, n_node))\n",
    "    for m in range(n_epoch):\n",
    "        for n in range(n_batch_per_epoch):\n",
    "            for i in range(batch_size):\n",
    "                for j in range(n_node):\n",
    "                    for k in range(n_node):\n",
    "                        angle[m,n,i,j,k] = calculate_angle(tasks[m,n,i,j], tasks[m,n,i,k])\n",
    "                        \n",
    "                        if -30 < angle[m,n,i,j,k] < 30:\n",
    "                            mask_matrix[m,n,i,j,k] = 1\n",
    "    \n",
    "    return angle, mask_matrix\n",
    "\n"
   ]
  },
  {
   "cell_type": "code",
   "execution_count": 31,
   "metadata": {},
   "outputs": [],
   "source": [
    "import numpy as np\n",
    "\n",
    "\n",
    "def calculate_angle_vectorized(point1, point2):\n",
    "    # 计算两点之间的角度\n",
    "    delta_x = point2[..., 0] - point1[..., 0]\n",
    "    delta_y = point2[..., 1] - point1[..., 1]\n",
    "    angle = np.arctan2(delta_y, delta_x) * 180 / np.pi\n",
    "    return angle\n",
    "def cal_angle_and_mask_matrix_vectorized(tasks):\n",
    "    n_epoch, n_batch_per_epoch, batch_size, n_node, _ = tasks.shape\n",
    "    tasks_reshaped = tasks.reshape(n_epoch, n_batch_per_epoch, batch_size, n_node, 1, 2)\n",
    "    tasks_broadcasted = np.broadcast_to(tasks_reshaped, (n_epoch, n_batch_per_epoch, batch_size, n_node, n_node, 2))\n",
    "    tasks_transposed = tasks_broadcasted.transpose(0, 1, 2, 4, 3, 5)\n",
    "    \n",
    "    angle = calculate_angle_vectorized(tasks_broadcasted, tasks_transposed)\n",
    "    mask_matrix = ((angle > -30) & (angle < 30)).astype(int)\n",
    "    \n",
    "    return angle, mask_matrix"
   ]
  },
  {
   "cell_type": "code",
   "execution_count": 32,
   "metadata": {},
   "outputs": [
    {
     "name": "stdout",
     "output_type": "stream",
     "text": [
      "time cost 0.7272896766662598 s\n"
     ]
    }
   ],
   "source": [
    "time_start = time.time()\n",
    "angle1, mask_matrix1 = cal_angle_and_mask_matrix(tasks)\n",
    "time_end = time.time()\n",
    "print('time cost', time_end-time_start, 's')\n",
    "\n"
   ]
  },
  {
   "cell_type": "code",
   "execution_count": 33,
   "metadata": {},
   "outputs": [
    {
     "name": "stdout",
     "output_type": "stream",
     "text": [
      "time cost 0.02027297019958496 s\n"
     ]
    }
   ],
   "source": [
    "time_start = time.time()\n",
    "angle2, mask_matrix2 = cal_angle_and_mask_matrix_vectorized(tasks)\n",
    "time_end = time.time()\n",
    "print('time cost', time_end-time_start, 's')"
   ]
  },
  {
   "cell_type": "code",
   "execution_count": 35,
   "metadata": {},
   "outputs": [
    {
     "data": {
      "text/plain": [
       "False"
      ]
     },
     "execution_count": 35,
     "metadata": {},
     "output_type": "execute_result"
    }
   ],
   "source": [
    "np.array_equal(angle1, angle2)"
   ]
  },
  {
   "cell_type": "code",
   "execution_count": 37,
   "metadata": {},
   "outputs": [
    {
     "data": {
      "text/plain": [
       "(array([0, 0, 0, ..., 1, 1, 1]),\n",
       " array([ 0,  0,  0, ..., 99, 99, 99]),\n",
       " array([0, 0, 0, ..., 9, 9, 9]),\n",
       " array([ 0,  0,  0, ..., 19, 19, 19]),\n",
       " array([ 1,  2,  3, ..., 16, 17, 18]))"
      ]
     },
     "execution_count": 37,
     "metadata": {},
     "output_type": "execute_result"
    }
   ],
   "source": [
    "np.where(angle1 != angle2)"
   ]
  },
  {
   "cell_type": "code",
   "execution_count": null,
   "metadata": {},
   "outputs": [],
   "source": []
  }
 ],
 "metadata": {
  "kernelspec": {
   "display_name": "marl",
   "language": "python",
   "name": "python3"
  },
  "language_info": {
   "codemirror_mode": {
    "name": "ipython",
    "version": 3
   },
   "file_extension": ".py",
   "mimetype": "text/x-python",
   "name": "python",
   "nbconvert_exporter": "python",
   "pygments_lexer": "ipython3",
   "version": "3.11.5"
  }
 },
 "nbformat": 4,
 "nbformat_minor": 2
}
