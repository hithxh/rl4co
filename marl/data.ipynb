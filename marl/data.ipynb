{
 "cells": [
  {
   "cell_type": "code",
   "execution_count": 36,
   "metadata": {},
   "outputs": [],
   "source": [
    "import numpy as np\n",
    "\n",
    "\n",
    "def generate_data(dataset_size, task_num,prize_type='const'):\n",
    "    '''\n",
    "    Generate random data for the task\n",
    "    :param dataset_size: number of datasets\n",
    "    :param task_num: number of tasks\n",
    "    '''\n",
    "    # Methods taken from Fischetti et al. 1998\n",
    "    if prize_type == 'const':\n",
    "        prize = np.ones((dataset_size, task_num))\n",
    "    elif prize_type == 'unif':\n",
    "        prize = (1 + np.random.randint(0, 100, size=(dataset_size, task_num))) / 100.\n",
    "    \n",
    "    loc = np.random.uniform(size=(dataset_size, task_num, 2))\n",
    "\n",
    "\n",
    "    return list(zip(prize, loc))\n"
   ]
  },
  {
   "cell_type": "code",
   "execution_count": null,
   "metadata": {},
   "outputs": [],
   "source": [
    "def encoder(inputs):\n",
    "    "
   ]
  }
 ],
 "metadata": {
  "kernelspec": {
   "display_name": "marl",
   "language": "python",
   "name": "python3"
  },
  "language_info": {
   "codemirror_mode": {
    "name": "ipython",
    "version": 3
   },
   "file_extension": ".py",
   "mimetype": "text/x-python",
   "name": "python",
   "nbconvert_exporter": "python",
   "pygments_lexer": "ipython3",
   "version": "3.11.5"
  }
 },
 "nbformat": 4,
 "nbformat_minor": 2
}
