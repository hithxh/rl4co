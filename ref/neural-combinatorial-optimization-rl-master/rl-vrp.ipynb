{
 "cells": [
  {
   "cell_type": "markdown",
   "metadata": {},
   "source": [
    "## Pytorch Implementation of [Reinforcement Learning for Solving](https://arxiv.org/pdf/1802.04240.pdf)\n",
    "\n",
    "Thanks for [pytorch-drl4vrp](https://github.com/mveres01/pytorch-drl4vrp). "
   ]
  },
  {
   "cell_type": "code",
   "execution_count": 1,
   "metadata": {
    "collapsed": true
   },
   "outputs": [],
   "source": [
    "import math\n",
    "import numpy as np\n",
    "import matplotlib.pyplot as plt\n",
    "from copy import deepcopy\n",
    "import random\n",
    "import os\n",
    "\n",
    "import torch\n",
    "import torch.nn as nn\n",
    "import torch.nn.functional as F\n",
    "from torch.autograd import Variable\n",
    "from torch.optim import Adam\n",
    "from torch.optim import lr_scheduler\n",
    "from torch.distributions import Categorical, Multinomial\n",
    "\n",
    "%matplotlib inline"
   ]
  },
  {
   "cell_type": "code",
   "execution_count": 2,
   "metadata": {
    "collapsed": true
   },
   "outputs": [],
   "source": [
    "from IPython.display import clear_output\n",
    "device = torch.device('cuda' if torch.cuda.is_available() else 'cpu')\n",
    "USE_CUDA = False"
   ]
  },
  {
   "cell_type": "markdown",
   "metadata": {},
   "source": [
    "### Tour length (Reward function)"
   ]
  },
  {
   "cell_type": "code",
   "execution_count": 3,
   "metadata": {
    "collapsed": true
   },
   "outputs": [],
   "source": [
    "# define tour length function as reward\n",
    "def tour_length(pi, use_cuda = USE_CUDA):\n",
    "    '''\n",
    "    calculate the total length of the tour\n",
    "    Args:\n",
    "    pi (list): length is sequence length, \n",
    "                the element shape is (batch_size, point_size)\n",
    "    Return:\n",
    "    tour_len (tensor): (batch_size, 1)\n",
    "    '''\n",
    "    \n",
    "    n = len(pi)\n",
    "    batch_size = pi[0].size(0)\n",
    "    tour_len = Variable(torch.zeros(batch_size))\n",
    "    \n",
    "    if use_cuda:\n",
    "        tour_len = tour_len.cuda()\n",
    "        \n",
    "    for i in range(n-1):\n",
    "        tour_len += torch.norm(pi[i+1] - pi[i], p = 2, dim = 1)\n",
    "    tour_len += torch.norm(pi[n-1] - pi[0], p = 2, dim = 1)\n",
    "    return tour_len"
   ]
  },
  {
   "cell_type": "markdown",
   "metadata": {},
   "source": [
    "### Embedding"
   ]
  },
  {
   "cell_type": "code",
   "execution_count": 4,
   "metadata": {
    "collapsed": true
   },
   "outputs": [],
   "source": [
    "class Embedding(nn.Module):\n",
    "    def __init__(self, input_size, embedding_size, use_cuda = USE_CUDA):\n",
    "        super().__init__()\n",
    "        self.embedding_size = embedding_size\n",
    "        \n",
    "        self.embedding = nn.Conv1d(input_size, embedding_size, 1)\n",
    "        \n",
    "    def forward(self, inputs):\n",
    "        '''\n",
    "        Args:\n",
    "        inputs (batch_size, input_size, seq_len)\n",
    "        \n",
    "        Return:\n",
    "        embedded (batch_size, embedding_size, seq_len)\n",
    "        '''\n",
    "        embedded = self.embedding(inputs)\n",
    "        \n",
    "        return embedded"
   ]
  },
  {
   "cell_type": "markdown",
   "metadata": {},
   "source": [
    "### Attention"
   ]
  },
  {
   "cell_type": "code",
   "execution_count": 148,
   "metadata": {
    "collapsed": false
   },
   "outputs": [],
   "source": [
    "class Attention(nn.Module):\n",
    "    \n",
    "    def __init__(self, hidden_size, use_cuda = USE_CUDA):\n",
    "        super().__init__()\n",
    "        self.hidden_size = hidden_size\n",
    "        \n",
    "        # Attention trainable parameters\n",
    "        Wa = torch.zeros((1, hidden_size, 3 * hidden_size))\n",
    "        va = torch.zeros(1, 1, hidden_size).float() \n",
    "        va = nn.Parameter(va, requires_grad=True)\n",
    "        Wa = nn.Parameter(Wa, requires_grad = True)\n",
    "        \n",
    "        if use_cuda:\n",
    "            va = va.cuda()\n",
    "            Wa = Wa.cuda()\n",
    "        self.Wa = Wa\n",
    "        self.va = va\n",
    "        \n",
    "        # nolinear\n",
    "        self.tanh = nn.Tanh()\n",
    "        self.softmax = nn.Softmax()\n",
    "    \n",
    "    def forward(self, static, dynamic, decoder_out):\n",
    "        '''\n",
    "        Args:\n",
    "        - static (batch_size, embedding_size, seq_len)\n",
    "        - dynamic (batch_size, embedding_size, seq_len)\n",
    "        - decoder_out (batch_size,  hidden_size)\n",
    "        Note that: embedding_size = hidden_size\n",
    "        '''\n",
    "        batch_size = static.size(0)\n",
    "        seq_len = static.size(2)\n",
    "        expand_ht = decoder_out.unsqueeze(2).expand(batch_size, -1, seq_len)\n",
    "        expand_va = self.va.expand(batch_size, 1, hidden_size)\n",
    "        expand_Wa = self.Wa.expand(batch_size, hidden_size, -1)\n",
    "        \n",
    "        concat_xh = torch.cat([static, dynamic, expand_ht], dim = 1) # (batch_size, hidden_size * 3, seq_len)\n",
    "        \n",
    "        u = torch.bmm(expand_va, \\\n",
    "                      self.tanh(torch.bmm(expand_Wa, concat_xh))).squeeze(1) # (batch_size, seq_len)\n",
    "        \n",
    "        a = self.softmax(u)\n",
    "       \n",
    "        return a"
   ]
  },
  {
   "cell_type": "code",
   "execution_count": 149,
   "metadata": {
    "collapsed": false
   },
   "outputs": [
    {
     "name": "stderr",
     "output_type": "stream",
     "text": [
      "D:\\Application\\Anaconda3\\lib\\site-packages\\ipykernel\\__main__.py:41: UserWarning: Implicit dimension choice for softmax has been deprecated. Change the call to include dim=X as an argument.\n"
     ]
    },
    {
     "data": {
      "text/plain": [
       "torch.Size([128, 20])"
      ]
     },
     "execution_count": 149,
     "metadata": {},
     "output_type": "execute_result"
    }
   ],
   "source": [
    "batch_size = 128\n",
    "hidden_size = 128\n",
    "seq_len = 20\n",
    "s, d, ht = torch.randn(batch_size, hidden_size, seq_len), \\\n",
    "        torch.randn(batch_size, hidden_size, seq_len), torch.randn(batch_size,  hidden_size)\n",
    "a_layer = Attention(hidden_size)\n",
    "a_layer(s, d, ht).size()"
   ]
  },
  {
   "cell_type": "markdown",
   "metadata": {},
   "source": [
    "### Mask Scheme\n",
    "At this time, we do not consider split delivery."
   ]
  },
  {
   "cell_type": "code",
   "execution_count": 20,
   "metadata": {
    "collapsed": false
   },
   "outputs": [],
   "source": [
    "def mask_logit(logit, dynamic, prev_idx):\n",
    "    '''\n",
    "    mask log probabilities\n",
    "    Note that the first element in sequence length is depot location\n",
    "    Args:\n",
    "    logit (tensor): (batch_size, seq_len)\n",
    "    dymaic (tensor): dynamic features (batch_size, 2, seq_len)\n",
    "    '''\n",
    "    \n",
    "    # first index should be depot\n",
    "    logit = logit.clone()\n",
    "    if prev_idx is None:\n",
    "        logit[:, 0] = 1\n",
    "        logit[:, 1:] = 0\n",
    "        return logit\n",
    "\n",
    "    load, demands = dynamic[:, 0, :], dynamic[:, 1, :]\n",
    "    batch_size, seq_len = logit.size()\n",
    "    # mask zero demands\n",
    "    zero_demands = (demands == 0).data.byte()\n",
    "    zero_demands[[b for b in range(batch_size)], 0] = 0 # don't mask depot\n",
    "    logit[zero_demands] = 0\n",
    "    \n",
    "    # zero load\n",
    "    zero_load = (load == 0).data.byte()\n",
    "    logit[zero_load] = 0\n",
    "    logit[:, 0] = 1\n",
    "        \n",
    "    # mask greater than load (not allowed split delivery)\n",
    "    greater_load = (demands > load).data.byte()\n",
    "    logit[greater_load] = 0\n",
    "    \n",
    "    # mask depot if load is full\n",
    "    full_load = (prev_idx == 0).data.byte()\n",
    "    logit[full_load, 0] = 0\n",
    "    \n",
    "    # all zeros\n",
    "    all_zeros = (logit.sum(dim = 1) == 0).data.byte()\n",
    "    logit[all_zeros, 0] = 1\n",
    "    \n",
    "    return logit"
   ]
  },
  {
   "cell_type": "code",
   "execution_count": 21,
   "metadata": {
    "collapsed": false
   },
   "outputs": [
    {
     "data": {
      "text/plain": [
       "torch.Size([128, 20])"
      ]
     },
     "execution_count": 21,
     "metadata": {},
     "output_type": "execute_result"
    }
   ],
   "source": [
    "logit = torch.randn(128, 20)\n",
    "load = torch.ones(128, 1, 20) * 10\n",
    "demands = torch.randint(1, 20, (128, 1, 20))\n",
    "dynamic = torch.cat([load, demands], dim = 1)\n",
    "prev_idx = torch.randint(0, 20, (128,)).long()\n",
    "mask_logit(logit, dynamic, prev_idx).size()"
   ]
  },
  {
   "cell_type": "markdown",
   "metadata": {},
   "source": [
    "### Update states"
   ]
  },
  {
   "cell_type": "code",
   "execution_count": 116,
   "metadata": {
    "collapsed": false
   },
   "outputs": [],
   "source": [
    "def update(prev_idx, dynamic, capacity):\n",
    "    '''\n",
    "    update states\n",
    "    \n",
    "    Args:\n",
    "    prev_idx (tensor or None): (batch_size,)\n",
    "    dynamic (tensor): (batch_size, 2, seq_len)\n",
    "    '''\n",
    "    loads, demands = dynamic[:, 0, :], dynamic[:, 1, :]\n",
    "    loads, demands = loads.clone(), demands.clone()\n",
    "    if prev_idx is None:\n",
    "        return dynamic\n",
    "    \n",
    "    batch_size, seq_len = demands.size()\n",
    "    finish_demands = deepcopy(demands[[b for b in range(batch_size)], prev_idx.data])\n",
    "    \n",
    "    load_copy = loads.clone()\n",
    "    \n",
    "    demands[[b for b in range(batch_size)], prev_idx.data] = torch.max(torch.zeros_like(finish_demands), \\\n",
    "                  finish_demands - loads[:, 0])\n",
    "    \n",
    "    prev_load = deepcopy(loads[:, 0])\n",
    "    new_loads = torch.max(torch.zeros_like(prev_load), prev_load - finish_demands)\n",
    "    new_loads[(prev_idx == 0).data] = capacity\n",
    "    \n",
    "    demands = demands.unsqueeze(1)\n",
    "    new_loads = new_loads.unsqueeze(1).expand(batch_size, seq_len).unsqueeze(1)\n",
    "    new_dynamic = torch.cat([new_loads, demands], dim = 1)\n",
    "    \n",
    "    return new_dynamic"
   ]
  },
  {
   "cell_type": "code",
   "execution_count": 117,
   "metadata": {
    "collapsed": false
   },
   "outputs": [
    {
     "name": "stdout",
     "output_type": "stream",
     "text": [
      "tensor([[ 1.,  1.,  1.,  1.,  1.,  1.,  1.,  1.,  1.,  1.,  1.,  1.,\n",
      "          1.,  1.,  1.,  1.,  1.,  1.,  1.,  1.],\n",
      "        [ 0.,  0.,  0.,  0.,  0.,  0.,  0.,  0.,  0.,  0.,  0.,  0.,\n",
      "          0.,  0.,  0.,  0.,  0.,  0.,  0.,  0.],\n",
      "        [ 6.,  6.,  6.,  6.,  6.,  6.,  6.,  6.,  6.,  6.,  6.,  6.,\n",
      "          6.,  6.,  6.,  6.,  6.,  6.,  6.,  6.],\n",
      "        [ 3.,  3.,  3.,  3.,  3.,  3.,  3.,  3.,  3.,  3.,  3.,  3.,\n",
      "          3.,  3.,  3.,  3.,  3.,  3.,  3.,  3.],\n",
      "        [ 0.,  0.,  0.,  0.,  0.,  0.,  0.,  0.,  0.,  0.,  0.,  0.,\n",
      "          0.,  0.,  0.,  0.,  0.,  0.,  0.,  0.],\n",
      "        [ 0.,  0.,  0.,  0.,  0.,  0.,  0.,  0.,  0.,  0.,  0.,  0.,\n",
      "          0.,  0.,  0.,  0.,  0.,  0.,  0.,  0.],\n",
      "        [ 0.,  0.,  0.,  0.,  0.,  0.,  0.,  0.,  0.,  0.,  0.,  0.,\n",
      "          0.,  0.,  0.,  0.,  0.,  0.,  0.,  0.],\n",
      "        [ 2.,  2.,  2.,  2.,  2.,  2.,  2.,  2.,  2.,  2.,  2.,  2.,\n",
      "          2.,  2.,  2.,  2.,  2.,  2.,  2.,  2.],\n",
      "        [ 0.,  0.,  0.,  0.,  0.,  0.,  0.,  0.,  0.,  0.,  0.,  0.,\n",
      "          0.,  0.,  0.,  0.,  0.,  0.,  0.,  0.],\n",
      "        [ 0.,  0.,  0.,  0.,  0.,  0.,  0.,  0.,  0.,  0.,  0.,  0.,\n",
      "          0.,  0.,  0.,  0.,  0.,  0.,  0.,  0.]])\n",
      "tensor([[ 18.,  14.,  17.,  19.,   2.,  15.,  17.,   9.,  18.,  12.,\n",
      "          19.,  10.,   0.,  17.,   4.,   8.,  11.,  16.,  15.,   8.],\n",
      "        [ 12.,   1.,   2.,   2.,   7.,  16.,   4.,  12.,  15.,  12.,\n",
      "           7.,   7.,  10.,   9.,   2.,   9.,  10.,  19.,   6.,  10.],\n",
      "        [  8.,  18.,   3.,  15.,   3.,  11.,  19.,  10.,   2.,  10.,\n",
      "           7.,  17.,   7.,   3.,  12.,  12.,   4.,  13.,  16.,   0.],\n",
      "        [  9.,   0.,   5.,   6.,  12.,   1.,   4.,  19.,   8.,  12.,\n",
      "           4.,  13.,  15.,  16.,   4.,  18.,  18.,  12.,   3.,  10.],\n",
      "        [  5.,  15.,  10.,  15.,  11.,  13.,  19.,   7.,   8.,   3.,\n",
      "          17.,  12.,  15.,  15.,  15.,   1.,  12.,   3.,   6.,  13.],\n",
      "        [ 13.,   9.,   5.,   1.,   6.,   8.,   2.,  14.,  15.,  18.,\n",
      "          10.,   2.,   7.,  19.,   3.,   8.,  16.,   7.,  19.,  16.],\n",
      "        [  1.,  19.,  10.,   8.,  11.,   2.,   5.,   7.,  18.,  12.,\n",
      "           1.,   3.,  17.,  14.,  12.,  11.,   8.,   6.,   1.,  14.],\n",
      "        [  5.,   2.,   8.,   8.,  11.,   1.,  10.,   0.,  14.,  13.,\n",
      "          19.,  18.,  12.,  15.,  12.,   2.,  13.,   4.,  10.,   2.],\n",
      "        [ 13.,  12.,  17.,   2.,   6.,  17.,  12.,  10.,   5.,   6.,\n",
      "           3.,   8.,  14.,  19.,  17.,   5.,  19.,  16.,   2.,  14.],\n",
      "        [  1.,  10.,   3.,  15.,  10.,   5.,  12.,  19.,  16.,   3.,\n",
      "          10.,  17.,  17.,   5.,  12.,   6.,  15.,   4.,  12.,  10.]])\n"
     ]
    }
   ],
   "source": [
    "load = torch.ones(128, 1, 20) * 10\n",
    "demands = torch.randint(1, 20, (128, 1, 20))\n",
    "dynamic = torch.cat([load, demands], dim = 1)\n",
    "prev_idx = torch.randint(0, 20, (128,)).long()\n",
    "batch_size = 128\n",
    "result = update(prev_idx, dynamic, 10)\n",
    "new_load = result[:, 0, :]\n",
    "demands = result[:, 1, :]\n",
    "print(new_load[:10])\n",
    "print(demands[:10])"
   ]
  },
  {
   "cell_type": "markdown",
   "metadata": {},
   "source": [
    "### Modified Pointer Network"
   ]
  },
  {
   "cell_type": "code",
   "execution_count": 152,
   "metadata": {
    "collapsed": false
   },
   "outputs": [],
   "source": [
    "class PointerNet(nn.Module):\n",
    "    \n",
    "    def __init__(self, embedding_size, hidden_size, seq_len, capacity, decoder_type = \"sample\", use_cuda = USE_CUDA):\n",
    "        \n",
    "        super().__init__()\n",
    "        self.embedding_size = embedding_size\n",
    "        self.hidden_size = hidden_size\n",
    "        self.seq_len = seq_len\n",
    "        self.decoder_type = decoder_type\n",
    "        self.capacity = capacity\n",
    "        \n",
    "        self.decoder = nn.LSTM(embedding_size, hidden_size, num_layers = 1, \n",
    "                               dropout = 0.1, batch_first = True) # (batch_size, seq_len, hidden_size)\n",
    "        self.attention = Attention(hidden_size)\n",
    "        self.dropout = nn.Dropout(p = 0.1)\n",
    "        \n",
    "        self.static_embedding = Embedding(2, embedding_size)\n",
    "        self.dynamic_embedding = Embedding(2, embedding_size)\n",
    "        self.softmax = nn.Softmax()\n",
    "        self.tanh = nn.Tanh()\n",
    "        \n",
    "        ## attention second step trainable parameters\n",
    "        vc = torch.zeros(1, 1, hidden_size).float() \n",
    "        vc = nn.Parameter(vc, requires_grad=True)\n",
    "        Wc = torch.zeros((1, hidden_size, 4 * hidden_size))\n",
    "        Wc = nn.Parameter(Wc, requires_grad = True)\n",
    "        \n",
    "        if use_cuda:\n",
    "            vc = vc.cuda()\n",
    "            Wc = Wc.cuda()\n",
    "        \n",
    "        self.Wc = Wc\n",
    "        self.vc = vc\n",
    "        \n",
    "        for p in self.parameters():\n",
    "            if len(p.shape) > 1:\n",
    "                nn.init.xavier_uniform_(p)\n",
    "        \n",
    "        self.use_cuda = use_cuda\n",
    "        \n",
    "        decoder_input0 = torch.zeros((1, hidden_size, 1), requires_grad = True)\n",
    "        \n",
    "        if use_cuda:\n",
    "            decoder_input0 = decoder_input0.cuda()\n",
    "        self.decoder_input0 = decoder_input0\n",
    "    \n",
    "    def forward(self, static, dynamic):\n",
    "        '''\n",
    "        Args:\n",
    "        static: static features (batch_size, 2, seq_len)\n",
    "        dynamic: dynamic features (batch_size, 2, seq_len)\n",
    "        Return:\n",
    "        \n",
    "        '''\n",
    "        batch_size = static.size(0)\n",
    "        seq_len = static.size(2)\n",
    "        \n",
    "        dynamic_copy = deepcopy(dynamic)\n",
    "        embed_s = self.static_embedding(static) # (batch_size, hidden_size, seq_len)\n",
    "        embed_d = self.dynamic_embedding(dynamic) # (batch_size, hidden_size, seq_len)\n",
    "        \n",
    "        ht, ct = None, None\n",
    "        max_step = seq_len\n",
    "        \n",
    "        if self.use_cuda:\n",
    "            ht = ht.cuda()\n",
    "            ct = ct.cuda()\n",
    "        \n",
    "        decoder_input = self.decoder_input0.permute(0, 2, 1).expand(batch_size, 1, -1)\n",
    "        index_list = []\n",
    "        prob_list = []\n",
    "        prev_idx = None\n",
    "        count = 0\n",
    "        for _ in range(max_step):\n",
    "            if ht is None and ct is None:\n",
    "                decoder_out, (ht, ct) = self.decoder(decoder_input)\n",
    "            else:\n",
    "                decoder_out, (ht, ct) = self.decoder(decoder_input, (ht, ct))\n",
    "            decoder_out = decoder_out.squeeze(1)\n",
    "            try:\n",
    "                logit = self.attention(embed_s, embed_d, decoder_out) # (batch_size, seq_len)\n",
    "            except:\n",
    "                print(embed_s.size())\n",
    "                print(embed_d.size())\n",
    "                print(decoder_out.size())\n",
    "                raise\n",
    "            \n",
    "            # attention second step\n",
    "            x = torch.cat([embed_s, embed_d], dim = 1) # (batch_size, hidden_size *2, seq_len)\n",
    "            context = torch.bmm(logit.unsqueeze(1), x.permute(0, 2, 1)) # (batch_size, 1, hidden_size * 2)\n",
    "            context = context.permute(0, 2, 1).expand(batch_size, -1, self.seq_len)\n",
    "            \n",
    "            Wc = self.Wc.expand(batch_size, hidden_size, -1)\n",
    "            vc = self.vc.expand(batch_size, 1, hidden_size)\n",
    "            probs = torch.bmm(vc, self.tanh(torch.bmm(Wc, torch.cat([context, x], dim = 1)))).squeeze(1)\n",
    "            \n",
    "            probs = self.softmax(probs)\n",
    "            probs = mask_logit(probs, dynamic, prev_idx)\n",
    "            \n",
    "            prob_list.append(probs)\n",
    "            \n",
    "            if self.decoder_type == \"sample\":\n",
    "                try:\n",
    "                    prob = Categorical(probs)\n",
    "                    prev_idx = prob.sample().long()\n",
    "                except:\n",
    "                    print(prob)\n",
    "                \n",
    "            elif self.decoder_type == \"greedy\":\n",
    "                prev_idx = torch.argmax(probs, dim = 1).long()\n",
    "            \n",
    "            # if return depot, refill and update dynamic elements\n",
    "            dynamic = update(prev_idx, dynamic, self.capacity)   \n",
    "#             dynamic = torch.Tensor(dynamic.data, device = device, requires_grad = True)\n",
    "            if self.use_cuda:\n",
    "                dynamic = dynamic.cuda()\n",
    "                \n",
    "            embed_d = self.dynamic_embedding(dynamic)\n",
    "            \n",
    "            decoder_input = embed_s[[b for b in range(batch_size)], \\\n",
    "                                    :, prev_idx.data].unsqueeze(1)\n",
    "            \n",
    "            index_list.append(prev_idx)\n",
    "            \n",
    "#             print(dynamic[:, 1, :].sum())\n",
    "            if dynamic[:, 1, :].sum() == 0:\n",
    "                break\n",
    "            count += 1\n",
    "        \n",
    "        dynamic = dynamic_copy\n",
    "            \n",
    "        # get pi and log prob\n",
    "        pi = []\n",
    "        probs = []\n",
    "        for i, index in enumerate(index_list):\n",
    "            pi_ = static[[j for j in range(batch_size)], :, index.data]\n",
    "            pi.append(pi_)\n",
    "            prob_ = prob_list[i]\n",
    "            prob_ = prob_[[j for j in range(batch_size)], index.data]\n",
    "            probs.append(prob_)\n",
    "\n",
    "        L = tour_length(pi)\n",
    "        log_probs = 0\n",
    "        for prob in probs:\n",
    "            log_prob = torch.log(prob)\n",
    "            log_probs += log_prob\n",
    "            \n",
    "        return index_list, prob_list, log_probs, L, pi, embed_s"
   ]
  },
  {
   "cell_type": "code",
   "execution_count": 153,
   "metadata": {
    "collapsed": false,
    "scrolled": true
   },
   "outputs": [
    {
     "name": "stderr",
     "output_type": "stream",
     "text": [
      "D:\\Application\\Anaconda3\\lib\\site-packages\\torch\\nn\\modules\\rnn.py:38: UserWarning: dropout option adds dropout after all but last recurrent layer, so non-zero dropout expects num_layers greater than 1, but got dropout=0.1 and num_layers=1\n",
      "  \"num_layers={}\".format(dropout, num_layers))\n",
      "D:\\Application\\Anaconda3\\lib\\site-packages\\ipykernel\\__main__.py:41: UserWarning: Implicit dimension choice for softmax has been deprecated. Change the call to include dim=X as an argument.\n",
      "D:\\Application\\Anaconda3\\lib\\site-packages\\ipykernel\\__main__.py:97: UserWarning: Implicit dimension choice for softmax has been deprecated. Change the call to include dim=X as an argument.\n"
     ]
    },
    {
     "name": "stdout",
     "output_type": "stream",
     "text": [
      "Number of points:  23\n",
      "size:  torch.Size([128])\n"
     ]
    }
   ],
   "source": [
    "capacity = 30\n",
    "load = torch.ones(128,1, 20) * capacity\n",
    "demands = torch.randint(1, 20, (128, 1, 20))\n",
    "demands[:, :, 0] = 0\n",
    "d = torch.cat([load, demands], dim = 1)\n",
    "s = torch.randn(128, 2, 20)\n",
    "\n",
    "net = PointerNet(128, 128, 20, capacity)\n",
    "index_list, prob_list, log_probs, L, pi, _ = net(s, d)\n",
    "print(\"Number of points: \", len(index_list))\n",
    "print(\"size: \", index_list[0].size())"
   ]
  },
  {
   "cell_type": "markdown",
   "metadata": {},
   "source": [
    "### Critic Network"
   ]
  },
  {
   "cell_type": "code",
   "execution_count": 63,
   "metadata": {
    "collapsed": true
   },
   "outputs": [],
   "source": [
    "class Critic(nn.Module):\n",
    "    \n",
    "    def __init__(self, hidden_size):\n",
    "        super().__init__()\n",
    "        self.decoder = nn.Sequential(\n",
    "                        nn.Linear(hidden_size, hidden_size),\n",
    "                        nn.ReLU(),\n",
    "                        nn.Linear(hidden_size, 1))\n",
    "    def forward(self, embed_s, prob_list, index_list):\n",
    "        '''\n",
    "        Args:\n",
    "        embed_s (batch_size, hidden_size, seq_len)\n",
    "        prob_list (list): with element (batch_size, seq_len)\n",
    "        index_list (list): with element (batch_size, 1)\n",
    "        '''\n",
    "        \n",
    "        # compute weighted sum\n",
    "        batch_size = embed_s.size(0)\n",
    "        hidden_size = embed_s.size(1)\n",
    "        weighted_sum = torch.zeros(batch_size, hidden_size, 1)\n",
    "        for i, index in enumerate(index_list):\n",
    "            prob = prob_list[i]\n",
    "            weighted_sum += torch.bmm(embed_s[[b for b in range(batch_size)], :, index.data].unsqueeze(2) \\\n",
    "                    , prob[[b for b in range(batch_size)], index.data].unsqueeze(1).unsqueeze(2))\n",
    "        \n",
    "        output = self.decoder(weighted_sum.squeeze(2))\n",
    "        return output"
   ]
  },
  {
   "cell_type": "code",
   "execution_count": 154,
   "metadata": {
    "collapsed": true
   },
   "outputs": [],
   "source": [
    "class Model(nn.Module):\n",
    "    \n",
    "    def __init__(self, embedding_size, hidden_size, seq_len, capacity, decoder_type = \"sample\"):\n",
    "        super().__init__()\n",
    "        self.actor = PointerNet(embedding_size, hidden_size, seq_len, capacity, decoder_type)\n",
    "        self.critic = Critic(hidden_size)\n",
    "        self.seq_len = seq_len\n",
    "    \n",
    "    def forward(self, static, dynamic):\n",
    "        index_list, prob_list, log_probs, L, pi, embed_s = self.actor(static, dynamic)\n",
    "        V = self.critic(embed_s, prob_list, index_list)\n",
    "        return index_list, prob_list, log_probs, L, pi, V"
   ]
  },
  {
   "cell_type": "markdown",
   "metadata": {},
   "source": [
    "### Train"
   ]
  },
  {
   "cell_type": "code",
   "execution_count": 155,
   "metadata": {
    "collapsed": true
   },
   "outputs": [],
   "source": [
    "# parameters\n",
    "batch_size = 128\n",
    "embedding_size = 128\n",
    "hidden_size = 128\n",
    "lr = 1e-4\n",
    "vrp_num = 10\n",
    "CAPACITY = 20\n",
    "beta = 0.9"
   ]
  },
  {
   "cell_type": "code",
   "execution_count": 156,
   "metadata": {
    "collapsed": true
   },
   "outputs": [],
   "source": [
    "def collect_data(data_size, vrp_num, capacity):\n",
    "    '''\n",
    "    collect train and test data\n",
    "    Args:\n",
    "    data_size (int): how much data needed\n",
    "    vrp_num (int): how many customers\n",
    "    capacity (int): the capacity of vehicle\n",
    "    '''\n",
    "    data = []\n",
    "    for i in range(data_size):\n",
    "        points = np.random.uniform(0, 1, (1, 2, vrp_num))\n",
    "        demands = np.random.choice(list(range(1, 10)), (1, 1, vrp_num))\n",
    "        demands[:, :, 0] = 0 # the demand of depot is 0\n",
    "        x = np.concatenate([points, demands], axis = 1)\n",
    "        x = torch.from_numpy(x).float()\n",
    "        data.append(x)\n",
    "    return data\n",
    "train_data = collect_data(1000000, vrp_num, CAPACITY)\n",
    "test_data = collect_data(1000, vrp_num, CAPACITY)"
   ]
  },
  {
   "cell_type": "code",
   "execution_count": 157,
   "metadata": {
    "collapsed": true
   },
   "outputs": [],
   "source": [
    "# training\n",
    "class Train(object):\n",
    "    \n",
    "    def __init__(self, model, train_set, validation_set, batch_size = 128, max_grad_norm = 2., lr = 1e-4, update_steps = 5000):\n",
    "        self.model = model\n",
    "        self.train_set = train_set\n",
    "        self.validation_set = validation_set\n",
    "        self.batch_size = batch_size\n",
    "        self.max_grad_norm = max_grad_norm\n",
    "        self.optimizer_all = Adam(list(model.critic.parameters()) + list(model.actor.parameters()), lr = lr)\n",
    "        self.optimizer_pointer = Adam(model.actor.parameters(), lr = lr)\n",
    "        self.lr_scheduler_pointer = lr_scheduler.MultiStepLR(self.optimizer_pointer, \\\n",
    "                                                     list(range(update_steps, update_steps * 1000, update_steps)), gamma=0.96)\n",
    "        self.lr_scheduler_all = lr_scheduler.MultiStepLR(self.optimizer_all, \\\n",
    "                                                     list(range(update_steps, update_steps * 1000, update_steps)), gamma=0.96)\n",
    "        self.mse_loss = nn.MSELoss()\n",
    "        self.input_dim = 3 # points dimension\n",
    "        \n",
    "        self.train_rewards = []\n",
    "        self.val_rewards = []\n",
    "    \n",
    "    def train_and_validation(self, n_epoch, training_steps, use_critic = True):\n",
    "        moving_average = 0\n",
    "        for epoch in range(n_epoch):\n",
    "            for step in range(training_steps):\n",
    "                training_set = random.sample(self.train_set, self.batch_size)\n",
    "                training_set = Variable(torch.cat(training_set).view(self.batch_size, self.input_dim, -1))\n",
    "                \n",
    "                static = training_set[:, :2, :]\n",
    "                d = training_set[:, 2, :].unsqueeze(1)\n",
    "                load = torch.ones(d.size()) * CAPACITY\n",
    "                dynamic = torch.cat([load, d], dim = 1)\n",
    "                index_list, prob_list, log_probs, L, pi, V = self.model(static, dynamic)\n",
    "                \n",
    "                log_probs = log_probs.view(-1)\n",
    "                log_probs[(log_probs < -1000).detach()] = 0.\n",
    "                \n",
    "                if not use_critic:\n",
    "                    if step == 0:\n",
    "                        moving_average = L.mean()\n",
    "                    else:\n",
    "                        moving_average = (moving_average * beta) + ((1. - beta) * L.mean())\n",
    "\n",
    "                    advantage = L - moving_average             \n",
    "                    actor_loss = (advantage * log_probs).mean()\n",
    "                    \n",
    "                                    \n",
    "                    self.optimizer_pointer.zero_grad()\n",
    "                    actor_loss.backward()\n",
    "                    torch.nn.utils.clip_grad_norm_(self.model.actor.parameters(), self.max_grad_norm, norm_type=2)\n",
    "                    self.optimizer_pointer.step()\n",
    "                    self.lr_scheduler_pointer.step()\n",
    "                    moving_average = moving_average.detach()\n",
    "                         \n",
    "                else:\n",
    "                    critic_loss = self.mse_loss(V.view(-1), L)\n",
    "                    advantage = L - V.view(-1)\n",
    "                    actor_loss = (advantage * log_probs).mean()\n",
    "                    loss = actor_loss + critic_loss\n",
    "                    self.optimizer_all.zero_grad()\n",
    "                    loss.backward()\n",
    "                    torch.nn.utils.clip_grad_norm_(list(self.model.critic.parameters()) + \\\n",
    "                                                   list(self.model.actor.parameters()), self.max_grad_norm, norm_type=2)\n",
    "#                     torch.nn.utils.clip_grad_norm_(, self.max_grad_norm, norm_type=2)\n",
    "                    self.optimizer_all.step()\n",
    "                    self.lr_scheduler_all.step()\n",
    "\n",
    "                self.train_rewards.append(L.mean().data[0])\n",
    "                \n",
    "                if step % 10 == 0:\n",
    "                    self.plot(epoch)\n",
    "                if step % 100 == 0:\n",
    "                    val_set = Variable(torch.cat(self.validation_set).view(len(self.validation_set), self.input_dim, -1))\n",
    "                    static = val_set[:, :2, :]\n",
    "                    d = val_set[:, 2, :].unsqueeze(1)\n",
    "                    load = torch.ones(d.size()) * CAPACITY\n",
    "                    dynamic = torch.cat([load, d], dim = 1)\n",
    "                    self.model.actor.decoder_type = \"greedy\"\n",
    "                    index_list, prob_list, log_probs, L, pi, _ = self.model(static, dynamic)\n",
    "                    self.val_rewards.append(L.mean().data[0])  \n",
    "                    self.model.actor.decoder_type = \"sample\"\n",
    "                    \n",
    "                # model save\n",
    "                if step % 1000 == 0:\n",
    "                    if use_critic:\n",
    "                        torch.save(self.model, os.path.join(os.getcwd(), \\\n",
    "                                                            'model_vrp{}_critic.pt'.format(self.model.seq_len)))\n",
    "                    else:\n",
    "                        torch.save(self.model, os.path.join(os.getcwd(), \\\n",
    "                                                            'model_vrp{}_mvg_avg.pt'.format(self.model.seq_len)))\n",
    "    \n",
    "    def plot(self, epoch):\n",
    "        clear_output(True)\n",
    "        plt.figure(figsize=(20,5))\n",
    "        plt.subplot(131)\n",
    "        plt.title('train tour length: epoch %s reward %s' % (epoch, self.train_rewards[-1] if len(self.train_rewards) else 'collecting'))\n",
    "        plt.plot(self.train_rewards)\n",
    "        plt.grid()\n",
    "        plt.subplot(132)\n",
    "        plt.title('val tour length: epoch %s reward %s' % (epoch, self.val_rewards[-1] if len(self.val_rewards) else 'collecting'))\n",
    "        plt.plot(self.val_rewards)\n",
    "        plt.grid()\n",
    "        plt.show() "
   ]
  },
  {
   "cell_type": "code",
   "execution_count": 158,
   "metadata": {
    "collapsed": false
   },
   "outputs": [
    {
     "name": "stderr",
     "output_type": "stream",
     "text": [
      "D:\\Application\\Anaconda3\\lib\\site-packages\\torch\\nn\\modules\\rnn.py:38: UserWarning: dropout option adds dropout after all but last recurrent layer, so non-zero dropout expects num_layers greater than 1, but got dropout=0.1 and num_layers=1\n",
      "  \"num_layers={}\".format(dropout, num_layers))\n"
     ]
    }
   ],
   "source": [
    "model = Model(embedding_size, hidden_size, vrp_num, capacity)\n",
    "vrp20_train = Train(model, train_data, test_data)"
   ]
  },
  {
   "cell_type": "code",
   "execution_count": 159,
   "metadata": {
    "collapsed": false
   },
   "outputs": [
    {
     "data": {
      "image/png": "[encoded data removed]",
      "text/plain": [
       "<matplotlib.figure.Figure at 0x1e02eb70>"
      ]
     },
     "metadata": {},
     "output_type": "display_data"
    },
    {
     "ename": "KeyboardInterrupt",
     "evalue": "",
     "output_type": "error",
     "traceback": [
      "\u001b[0;31m---------------------------------------------------------------------------\u001b[0m",
      "\u001b[0;31mKeyboardInterrupt\u001b[0m                         Traceback (most recent call last)",
      "\u001b[0;32m<ipython-input-159-4d245539a437>\u001b[0m in \u001b[0;36m<module>\u001b[0;34m()\u001b[0m\n\u001b[0;32m----> 1\u001b[0;31m \u001b[0mvrp20_train\u001b[0m\u001b[1;33m.\u001b[0m\u001b[0mtrain_and_validation\u001b[0m\u001b[1;33m(\u001b[0m\u001b[1;36m6\u001b[0m\u001b[1;33m,\u001b[0m \u001b[1;36m10000\u001b[0m\u001b[1;33m,\u001b[0m \u001b[1;32mFalse\u001b[0m\u001b[1;33m)\u001b[0m\u001b[1;33m\u001b[0m\u001b[0m\n\u001b[0m",
      "\u001b[0;32m<ipython-input-157-7894bbf18815>\u001b[0m in \u001b[0;36mtrain_and_validation\u001b[0;34m(self, n_epoch, training_steps, use_critic)\u001b[0m\n\u001b[1;32m     45\u001b[0m \u001b[1;33m\u001b[0m\u001b[0m\n\u001b[1;32m     46\u001b[0m                     \u001b[0mself\u001b[0m\u001b[1;33m.\u001b[0m\u001b[0moptimizer_pointer\u001b[0m\u001b[1;33m.\u001b[0m\u001b[0mzero_grad\u001b[0m\u001b[1;33m(\u001b[0m\u001b[1;33m)\u001b[0m\u001b[1;33m\u001b[0m\u001b[0m\n\u001b[0;32m---> 47\u001b[0;31m                     \u001b[0mactor_loss\u001b[0m\u001b[1;33m.\u001b[0m\u001b[0mbackward\u001b[0m\u001b[1;33m(\u001b[0m\u001b[1;33m)\u001b[0m\u001b[1;33m\u001b[0m\u001b[0m\n\u001b[0m\u001b[1;32m     48\u001b[0m                     \u001b[0mtorch\u001b[0m\u001b[1;33m.\u001b[0m\u001b[0mnn\u001b[0m\u001b[1;33m.\u001b[0m\u001b[0mutils\u001b[0m\u001b[1;33m.\u001b[0m\u001b[0mclip_grad_norm_\u001b[0m\u001b[1;33m(\u001b[0m\u001b[0mself\u001b[0m\u001b[1;33m.\u001b[0m\u001b[0mmodel\u001b[0m\u001b[1;33m.\u001b[0m\u001b[0mactor\u001b[0m\u001b[1;33m.\u001b[0m\u001b[0mparameters\u001b[0m\u001b[1;33m(\u001b[0m\u001b[1;33m)\u001b[0m\u001b[1;33m,\u001b[0m \u001b[0mself\u001b[0m\u001b[1;33m.\u001b[0m\u001b[0mmax_grad_norm\u001b[0m\u001b[1;33m,\u001b[0m \u001b[0mnorm_type\u001b[0m\u001b[1;33m=\u001b[0m\u001b[1;36m2\u001b[0m\u001b[1;33m)\u001b[0m\u001b[1;33m\u001b[0m\u001b[0m\n\u001b[1;32m     49\u001b[0m                     \u001b[0mself\u001b[0m\u001b[1;33m.\u001b[0m\u001b[0moptimizer_pointer\u001b[0m\u001b[1;33m.\u001b[0m\u001b[0mstep\u001b[0m\u001b[1;33m(\u001b[0m\u001b[1;33m)\u001b[0m\u001b[1;33m\u001b[0m\u001b[0m\n",
      "\u001b[0;32mD:\\Application\\Anaconda3\\lib\\site-packages\\torch\\tensor.py\u001b[0m in \u001b[0;36mbackward\u001b[0;34m(self, gradient, retain_graph, create_graph)\u001b[0m\n\u001b[1;32m     91\u001b[0m                 \u001b[0mproducts\u001b[0m\u001b[1;33m.\u001b[0m \u001b[0mDefaults\u001b[0m \u001b[0mto\u001b[0m\u001b[0;31m \u001b[0m\u001b[0;31m`\u001b[0m\u001b[0;31m`\u001b[0m\u001b[1;32mFalse\u001b[0m\u001b[0;31m`\u001b[0m\u001b[0;31m`\u001b[0m\u001b[1;33m.\u001b[0m\u001b[1;33m\u001b[0m\u001b[0m\n\u001b[1;32m     92\u001b[0m         \"\"\"\n\u001b[0;32m---> 93\u001b[0;31m         \u001b[0mtorch\u001b[0m\u001b[1;33m.\u001b[0m\u001b[0mautograd\u001b[0m\u001b[1;33m.\u001b[0m\u001b[0mbackward\u001b[0m\u001b[1;33m(\u001b[0m\u001b[0mself\u001b[0m\u001b[1;33m,\u001b[0m \u001b[0mgradient\u001b[0m\u001b[1;33m,\u001b[0m \u001b[0mretain_graph\u001b[0m\u001b[1;33m,\u001b[0m \u001b[0mcreate_graph\u001b[0m\u001b[1;33m)\u001b[0m\u001b[1;33m\u001b[0m\u001b[0m\n\u001b[0m\u001b[1;32m     94\u001b[0m \u001b[1;33m\u001b[0m\u001b[0m\n\u001b[1;32m     95\u001b[0m     \u001b[1;32mdef\u001b[0m \u001b[0mregister_hook\u001b[0m\u001b[1;33m(\u001b[0m\u001b[0mself\u001b[0m\u001b[1;33m,\u001b[0m \u001b[0mhook\u001b[0m\u001b[1;33m)\u001b[0m\u001b[1;33m:\u001b[0m\u001b[1;33m\u001b[0m\u001b[0m\n",
      "\u001b[0;32mD:\\Application\\Anaconda3\\lib\\site-packages\\torch\\autograd\\__init__.py\u001b[0m in \u001b[0;36mbackward\u001b[0;34m(tensors, grad_tensors, retain_graph, create_graph, grad_variables)\u001b[0m\n\u001b[1;32m     87\u001b[0m     Variable._execution_engine.run_backward(\n\u001b[1;32m     88\u001b[0m         \u001b[0mtensors\u001b[0m\u001b[1;33m,\u001b[0m \u001b[0mgrad_tensors\u001b[0m\u001b[1;33m,\u001b[0m \u001b[0mretain_graph\u001b[0m\u001b[1;33m,\u001b[0m \u001b[0mcreate_graph\u001b[0m\u001b[1;33m,\u001b[0m\u001b[1;33m\u001b[0m\u001b[0m\n\u001b[0;32m---> 89\u001b[0;31m         allow_unreachable=True)  # allow_unreachable flag\n\u001b[0m\u001b[1;32m     90\u001b[0m \u001b[1;33m\u001b[0m\u001b[0m\n\u001b[1;32m     91\u001b[0m \u001b[1;33m\u001b[0m\u001b[0m\n",
      "\u001b[0;31mKeyboardInterrupt\u001b[0m: "
     ]
    }
   ],
   "source": [
    "vrp20_train.train_and_validation(6, 10000, False)"
   ]
  },
  {
   "cell_type": "code",
   "execution_count": 33,
   "metadata": {
    "collapsed": false
   },
   "outputs": [
    {
     "name": "stdout",
     "output_type": "stream",
     "text": [
      "before demands:  torch.Size([1, 1, 20])\n",
      "sum of demands:  tensor(63.)\n",
      "Tour length:   tensor([9.9924])\n",
      "index list:  [tensor([0]), tensor([5]), tensor([19]), tensor([10]), tensor([16]), tensor([12]), tensor([18]), tensor([17]), tensor([0]), tensor([11]), tensor([14]), tensor([2]), tensor([9]), tensor([1]), tensor([15]), tensor([4]), tensor([7]), tensor([6]), tensor([0]), tensor([8]), tensor([13]), tensor([3]), tensor([0])]\n",
      "demands:  tensor([[[0., 3., 3., 1., 2., 1., 2., 2., 1., 3., 6., 7., 8., 1., 5., 3., 6.,\n",
      "          1., 7., 1.]]])\n",
      "Policy:  [tensor([[0.1230, 0.8135]]), tensor([[0.9844, 0.0915]]), tensor([[0.9205, 0.0236]]), tensor([[0.7074, 0.4420]]), tensor([[0.4309, 0.9747]]), tensor([[0.0180, 0.7000]]), tensor([[0.0934, 0.5768]]), tensor([[0.7252, 0.0030]]), tensor([[0.1230, 0.8135]]), tensor([[0.8076, 0.9161]]), tensor([[0.9919, 0.8535]]), tensor([[0.2776, 0.7679]]), tensor([[0.4697, 0.5955]]), tensor([[0.5397, 0.4681]]), tensor([[0.3577, 0.8718]]), tensor([[0.6407, 0.8842]]), tensor([[0.3737, 0.5685]]), tensor([[0.5142, 0.7748]]), tensor([[0.1230, 0.8135]]), tensor([[0.5577, 0.5813]]), tensor([[0.6504, 0.6811]]), tensor([[0.7334, 0.8296]]), tensor([[0.1230, 0.8135]])]\n"
     ]
    },
    {
     "name": "stderr",
     "output_type": "stream",
     "text": [
      "/Users/01370956/anaconda2/envs/python3/lib/python3.6/site-packages/ipykernel_launcher.py:46: UserWarning: invalid index of a 0-dim tensor. This will be an error in PyTorch 0.5. Use tensor.item() to convert a 0-dim tensor to a Python number\n",
      "/Users/01370956/anaconda2/envs/python3/lib/python3.6/site-packages/ipykernel_launcher.py:43: UserWarning: Implicit dimension choice for softmax has been deprecated. Change the call to include dim=X as an argument.\n",
      "/Users/01370956/anaconda2/envs/python3/lib/python3.6/site-packages/ipykernel_launcher.py:52: UserWarning: Implicit dimension choice for softmax has been deprecated. Change the call to include dim=X as an argument.\n"
     ]
    }
   ],
   "source": [
    "# check\n",
    "val_set = Variable(torch.cat(test_data).view(len(test_data), 3, -1))\n",
    "s = val_set[35, :2, :].unsqueeze(0)\n",
    "d = val_set[35, 2, :].unsqueeze(0).unsqueeze(1)\n",
    "print(\"before demands: \", d.size())\n",
    "print(\"sum of demands: \", torch.sum(d))\n",
    "load = torch.ones(1) * CAPACITY\n",
    "index_list, prob_list, log_probs, L, pi, _ = vrp20_train.model((s, d, load))\n",
    "print(\"Tour length:  \", L)\n",
    "print(\"index list: \", index_list)\n",
    "print(\"demands: \", d)\n",
    "print(\"Policy: \", pi)"
   ]
  },
  {
   "cell_type": "code",
   "execution_count": 34,
   "metadata": {
    "collapsed": false
   },
   "outputs": [
    {
     "data": {
      "text/plain": [
       "<matplotlib.collections.PathCollection at 0x1353152e8>"
      ]
     },
     "execution_count": 34,
     "metadata": {},
     "output_type": "execute_result"
    },
    {
     "data": {
      "image/png": "[encoded data removed]",
      "text/plain": [
       "<Figure size 432x288 with 1 Axes>"
      ]
     },
     "metadata": {},
     "output_type": "display_data"
    }
   ],
   "source": [
    "pi_np = [p.data[0].tolist() for p in pi]\n",
    "x = [p[0] for p in pi_np]\n",
    "y = [p[1] for p in pi_np]\n",
    "plt.plot(x, y, \"-o\")\n",
    "plt.scatter(x[0], y[0], c = \"r\", marker = \"s\", linewidths = 5)"
   ]
  },
  {
   "cell_type": "code",
   "execution_count": null,
   "metadata": {
    "collapsed": true
   },
   "outputs": [],
   "source": []
  },
  {
   "cell_type": "code",
   "execution_count": null,
   "metadata": {
    "collapsed": true
   },
   "outputs": [],
   "source": []
  }
 ],
 "metadata": {
  "kernelspec": {
   "display_name": "Python 3",
   "language": "python",
   "name": "python3"
  },
  "language_info": {
   "codemirror_mode": {
    "name": "ipython",
    "version": 3
   },
   "file_extension": ".py",
   "mimetype": "text/x-python",
   "name": "python",
   "nbconvert_exporter": "python",
   "pygments_lexer": "ipython3",
   "version": "3.6.0"
  }
 },
 "nbformat": 4,
 "nbformat_minor": 2
}
